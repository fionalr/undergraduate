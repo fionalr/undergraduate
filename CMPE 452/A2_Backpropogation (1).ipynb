{
 "cells": [
  {
   "cell_type": "markdown",
   "id": "cf798513",
   "metadata": {
    "id": "cf798513"
   },
   "source": [
    "# CISC/CMPE 452/COGS 400 Assignment 2 - Backpropagation (15 points)  \n",
    "\n",
    "Please put your name and student id here\n",
    "\n",
    "    Fiona LeClair-Robertson, #20163405\n",
    "\n",
    "- The notebook file has clearly marked blocks where you are expected to write code. Do not write or modify any code outside of these blocks.\n",
    "- Make sure to restart and run all the cells from the beginning before submission. Do not clear out the outputs. You will only get credit for code that has been run.\n",
    "- Mark will be deducted based on late policy (-1% of the course total marks per day after due date until the end date after which no assignments will be accepted)\n"
   ]
  },
  {
   "cell_type": "markdown",
   "id": "VRLNrFDU3dKp",
   "metadata": {
    "id": "VRLNrFDU3dKp"
   },
   "source": [
    "## [Part 1 (9 points)](#Part-1)  \n",
    "\n",
    "### Build Model1 (7 points)  \n",
    "Use Pytorch to implement a three-layer Neural Network (input layer - hidden layer - output layer) and update the weights with backpropagation  \n",
    "- 1. Implement forward and calculate the output (1 point)  \n",
    "- 2. Calculate errors and loss (3 points)  \n",
    "- 3. Update the weights with backpropagation (1 points)  \n",
    "- 4. Predict function (1 point)  \n",
    "- 5. Activation function (Sigmoid function) (1 point)  \n",
    "\n",
    "### Evaluator Function (1 point)  \n",
    "Implement the evaluator function with Pytorch or Numpy only   \n",
    "- Evaluation metrics include confusion matrix, accuracy, recall score, precision and F1 score\n",
    "\n",
    "### Train and Evaluate Model1 (1 point)  \n",
    "Train Model1 with customized hidden size, learning rate, number of iterations and batch size  \n",
    "Use the predict function to predict the labels with the test dataset  \n",
    "Evaluate the prediction results  \n",
    "- Evaluation metrics include confusion matrix, accuracy, recall score, precision and F1 score\n",
    "\n",
    "## [Part 2 (6 points)](#Part-2)  \n",
    "\n",
    "Use another machine learning framework (**scikit-learn, Tensorflow and Pytorch**) to build MLP\n",
    "e.g. \n",
    "  1. https://scikit-learn.org/stable/modules/generated/sklearn.neural_network.MLPClassifier.html\n",
    "  2. https://www.tensorflow.org/api_docs/python/tf/keras/Sequential\n",
    "  3. https://pytorch.org/tutorials/beginner/examples_nn/polynomial_nn.html#sphx-glr-beginner-examples-nn-polynomial-nn-py\n",
    "  \n",
    "### Build Model2-1 (2 points)  \n",
    "Implement Model2-1 with the same hidden nodes and optimization function as the model in Part 1  \n",
    "Train and validate model. Use the best model on validation dataset to test on the test dataset  \n",
    "\n",
    "### Train and Evaluate Model2-1 (1 point)\n",
    "Evaluate the prediction results  \n",
    "- Evaluation metrics include confusion matrix, accuracy, recall score, precision and F1 score\n",
    "\n",
    "### Build Model2-2 (2 points)  \n",
    "Add one more hidden layer (2 hidden layers in total) to the model  \n",
    "Describe Model2-2 (number of hidden nodes)  \n",
    "Train and validate model. Use the best model on validation dataset to test on the test dataset  \n",
    "\n",
    "### Train and Evaluate Model2-2 (1 point)\n",
    "Evaluate the prediction results  \n",
    "- Evaluation metrics include confusion matrix, accuracy, recall score, precision and F1 score"
   ]
  },
  {
   "cell_type": "code",
   "execution_count": 40,
   "id": "b7e6a263",
   "metadata": {
    "id": "b7e6a263",
    "scrolled": true
   },
   "outputs": [],
   "source": [
    "import torch\n",
    "import matplotlib.pyplot as plt\n",
    "from torchvision.datasets import MNIST"
   ]
  },
  {
   "cell_type": "code",
   "execution_count": 41,
   "id": "eKE_KANU7_sq",
   "metadata": {
    "colab": {
     "base_uri": "https://localhost:8080/"
    },
    "id": "eKE_KANU7_sq",
    "outputId": "946cd1ab-22bd-4efa-c734-faab97e6f40d"
   },
   "outputs": [
    {
     "data": {
      "text/plain": [
       "device(type='cpu')"
      ]
     },
     "execution_count": 41,
     "metadata": {},
     "output_type": "execute_result"
    }
   ],
   "source": [
    "# you can go to Edit - Notebook settings to select GPU under the Hardware accelerator\n",
    "# check the device\n",
    "device = torch.device('cuda' if torch.cuda.is_available() else 'cpu')\n",
    "device"
   ]
  },
  {
   "cell_type": "code",
   "execution_count": 42,
   "id": "9a5cbc46",
   "metadata": {
    "id": "9a5cbc46"
   },
   "outputs": [],
   "source": [
    "# build the dataset (train, validation and test)\n",
    "def load_MNIST(n_val=10000, n_sample=1000, sample=False):\n",
    "    n_val = n_val\n",
    "    n_sample = n_sample\n",
    "    train = MNIST(root = '.', train = True, download = True)\n",
    "    test = MNIST(root = '.', train = False, download = True)\n",
    "    \n",
    "    # data preprocessing\n",
    "    x_train, x_test = train.data/255, test.data/255\n",
    "    x_train = x_train.reshape(x_train.shape[0], -1)\n",
    "    x_test = x_test.reshape(x_test.shape[0], -1)\n",
    "    y_train = torch.nn.functional.one_hot(train.targets)\n",
    "    y_test = torch.nn.functional.one_hot(test.targets)\n",
    "\n",
    "    data_dict = {}\n",
    "    if sample:\n",
    "        data_dict['x_train'] = x_train[:-n_val][:n_sample]\n",
    "        data_dict['y_train'] = y_train[:-n_val][:n_sample]\n",
    "        data_dict['x_val'] = x_train[-n_val:][:n_sample//10]\n",
    "        data_dict['y_val'] = y_train[-n_val:][:n_sample//10]\n",
    "        data_dict['x_test'] = x_test[:n_sample//10]\n",
    "        data_dict['y_test'] = y_test[:n_sample//10]\n",
    "    else:\n",
    "        data_dict['x_train'] = x_train[:-n_val]\n",
    "        data_dict['y_train'] = y_train[:-n_val]\n",
    "        data_dict['x_val'] = x_train[-n_val:]\n",
    "        data_dict['y_val'] = y_train[-n_val:]\n",
    "        data_dict['x_test'] = x_test\n",
    "        data_dict['y_test'] = y_test\n",
    "    return data_dict"
   ]
  },
  {
   "cell_type": "code",
   "execution_count": 43,
   "id": "Q5G-vmpD21Bj",
   "metadata": {
    "colab": {
     "base_uri": "https://localhost:8080/",
     "height": 573
    },
    "id": "Q5G-vmpD21Bj",
    "outputId": "f053f294-9aad-4097-f75e-aaed70dd050e"
   },
   "outputs": [
    {
     "name": "stdout",
     "output_type": "stream",
     "text": [
      "Train data shape: torch.Size([50000, 784])\n",
      "Train labels shape: torch.Size([50000, 10])\n",
      "Validation data shape: torch.Size([10000, 784])\n",
      "Validation labels shape: torch.Size([10000, 10])\n",
      "Test data shape: torch.Size([10000, 784])\n",
      "Test labels shape: torch.Size([10000, 10])\n"
     ]
    }
   ],
   "source": [
    "# you can start with a small sample dataset by setting sample=True\n",
    "data_dict = load_MNIST(sample=False)\n",
    "print('Train data shape:', data_dict['x_train'].shape)\n",
    "print('Train labels shape:', data_dict['y_train'].shape)\n",
    "print('Validation data shape:', data_dict['x_val'].shape)\n",
    "print('Validation labels shape:', data_dict['y_val'].shape)\n",
    "print('Test data shape:', data_dict['x_test'].shape)\n",
    "print('Test labels shape:', data_dict['y_test'].shape)"
   ]
  },
  {
   "cell_type": "code",
   "execution_count": 44,
   "id": "1aa9f016",
   "metadata": {
    "colab": {
     "base_uri": "https://localhost:8080/",
     "height": 281
    },
    "id": "1aa9f016",
    "outputId": "83a4195e-8fb9-4850-8a9a-7c3bbc2bb623",
    "scrolled": false
   },
   "outputs": [
    {
     "data": {
      "image/png": "[encoded data removed]",
      "text/plain": [
       "<Figure size 640x480 with 1 Axes>"
      ]
     },
     "metadata": {},
     "output_type": "display_data"
    }
   ],
   "source": [
    "# plot an example\n",
    "plt.imshow(data_dict['x_train'][0].reshape(28, 28))\n",
    "plt.title(data_dict['y_train'][0].argmax().item())\n",
    "plt.show()"
   ]
  },
  {
   "cell_type": "code",
   "execution_count": 45,
   "id": "6291c647",
   "metadata": {
    "id": "6291c647"
   },
   "outputs": [],
   "source": [
    "\n",
    "def evaluator(y_test, y_pred):\n",
    "    ####################################################################################################\n",
    "    # enter code here to implement the evaluation metrics including confusion matrix, accuracy, precision and recall\n",
    "    # you can only use Numpy or Pytorch to implement the metrics\n",
    "    \n",
    "    # CREATING CONFUSION MATRIX \n",
    "    truep = 0\n",
    "    truen = 0\n",
    "    falsep = 0\n",
    "    falsen = 0\n",
    "\n",
    "    # Iterating through each of the desired outputs & model predicted outputs\n",
    "    for desired_output, predicted_output in zip(y_test, y_pred):\n",
    "\n",
    "      # Case 1: True Positive\n",
    "      if predicted_output == torch.argmax(desired_output):\n",
    "        if predicted_output!=0:\n",
    "            truep += 1\n",
    "        else:\n",
    "            truen += 1\n",
    "      else:\n",
    "        if predicted_output != 0:\n",
    "            falsep += 1\n",
    "        else:\n",
    "            falsen += 1\n",
    "      \n",
    "      # Case 2: False Negative\n",
    "    confusionMatrix = [[truen,truep],[falsen,falsep]]\n",
    "    print(confusionMatrix)\n",
    "    accuracy = (truep + truen)/len(y_test)\n",
    "    precison = truep/ (truep + falsep)\n",
    "    recall = truep/ (truep + falsen)\n",
    "    f1 = (2*(precison*recall))/(precison + recall)\n",
    "    print(\"accuracy: \", accuracy)\n",
    "    print(\"recall: \", recall)\n",
    "    print(\"precision: \", precison)\n",
    "    print(\"f1 score: \",  f1)\n",
    "        \n",
    "        \n",
    "####################################################################################################"
   ]
  },
  {
   "cell_type": "markdown",
   "id": "4e4a6b06",
   "metadata": {
    "id": "4e4a6b06"
   },
   "source": [
    "## Part 1"
   ]
  },
  {
   "cell_type": "code",
   "execution_count": 46,
   "id": "a0d3fc2d",
   "metadata": {
    "id": "a0d3fc2d"
   },
   "outputs": [],
   "source": [
    "class NN(object):\n",
    "    def __init__(self, learning_rate, n_iters, batch_size, hidden_size, device, dtype=torch.float32):\n",
    "        self.learning_rate = learning_rate\n",
    "        self.n_iters = n_iters\n",
    "        self.batch_size = batch_size\n",
    "        self.hidden_size = hidden_size\n",
    "        self.device = device\n",
    "        self.dtype = dtype\n",
    "        self.history = {}\n",
    "        self.history['train_acc'], self.history['val_acc'], self.history['loss'] = [], [], []\n",
    "    \n",
    "    # 5. activation function\n",
    "    def sigmoid(self, x):\n",
    "        ####################################################################################################\n",
    "        # enter code here to implement the activation function\n",
    "        return 1/(1+torch.exp(-x))\n",
    "        ####################################################################################################\n",
    "\n",
    "    def train(self, x, y, x_val, y_val, verbose=1):\n",
    "        n_train = x.shape[0]\n",
    "        n_val = x_val.shape[0]\n",
    "        input_size = x.shape[1]\n",
    "        num_classes = y.shape[1]\n",
    "        \n",
    "        # weight initialization\n",
    "        self.W1 = torch.randn(input_size, self.hidden_size, dtype=self.dtype, device=self.device) * 0.01\n",
    "        self.W2 = torch.randn(self.hidden_size, num_classes, dtype=self.dtype, device=self.device) * 0.01\n",
    "\n",
    "        # TODO: train the weights with the input data and labels\n",
    "        for i in range(self.n_iters):\n",
    "            loss = 0\n",
    "            data = getBatch(x, y, self.batch_size)\n",
    "            for x_batch, y_batch in data:\n",
    "                # 1. forward\n",
    "                ####################################################################################################\n",
    "                # enter code here to calculate the hidden layer output and output layer output\n",
    "                hidden = self.sigmoid(torch.matmul(x_batch, self.W1))\n",
    "                output = self.sigmoid(torch.matmul(hidden, self.W2))\n",
    "                ####################################################################################################\n",
    "                \n",
    "                # 2. error and loss\n",
    "                ####################################################################################################\n",
    "                # enter code here to calculate the output error, MSE loss, delta output and delta hidden\n",
    "                output_error = (y_batch - output)\n",
    "                loss += (torch.sum(torch.square(output_error)))/n_val\n",
    "                delta_output = output_error*(output*(1-output))\n",
    "                a = torch.matmul(delta_output, torch.t(self.W2))\n",
    "                delta_hidden = a*(hidden*(1-hidden))\n",
    "                ####################################################################################################\n",
    "\n",
    "                # 3. backward\n",
    "                ####################################################################################################\n",
    "                # enter code here to calculate delta weights and update the weights\n",
    "                \n",
    "                # Mean of the gradient\n",
    "                update_w2 = torch.matmul(torch.t(hidden), delta_output)\n",
    "                update_w1 = torch.matmul(torch.t(x_batch), delta_hidden)\n",
    "            \n",
    "                \n",
    "                # Update the weights\n",
    "                self.W2 += self.learning_rate * update_w2\n",
    "                self.W1 += self.learning_rate * update_w1   \n",
    "                ####################################################################################################\n",
    "\n",
    "            # calculate the accuracy and save the training history\n",
    "            y_pred = self.predict(x)\n",
    "            train_acc = torch.sum(torch.argmax(y, dim=1) == y_pred) / n_train\n",
    "            self.history['train_acc'].append(train_acc)\n",
    "            self.history['loss'].append(loss)\n",
    "            \n",
    "            y_pred = self.predict(x_val)\n",
    "            val_acc = torch.sum(torch.argmax(y_val, dim=1) == y_pred) / n_val\n",
    "            self.history['val_acc'].append(val_acc)\n",
    "            if verbose:\n",
    "                print('epoch %d, loss %.4f, train acc %.3f, validation acc %.3f'\n",
    "                  % (i + 1, loss, train_acc, val_acc))\n",
    "    \n",
    "    # 4. predict function \n",
    "    def predict(self, x):\n",
    "        ####################################################################################################\n",
    "        # enter code here to implement the predict function\n",
    "        # TODO: use the trained weights to predict labels and return the predicted labels\n",
    "        # remember to use torch.argmax() to return the true labels\n",
    "        \n",
    "        hidden = self.sigmoid(torch.matmul(x, self.W1))\n",
    "        output = self.sigmoid(torch.matmul(hidden, self.W2))\n",
    "        y_pred = torch.argmax(output, axis = 1)\n",
    "        \n",
    "        ####################################################################################################\n",
    "        return y_pred\n",
    "\n",
    "def getBatch(x, y, batch_size):\n",
    "    n_epoch = x.shape[0] // batch_size\n",
    "    for i in range(n_epoch):\n",
    "        x_batch = x[i * batch_size : (i+1) * batch_size]\n",
    "        y_batch = y[i * batch_size : (i+1) * batch_size]\n",
    "        yield x_batch, y_batch\n",
    "    x_batch = x[(i+1) * batch_size:]\n",
    "    y_batch = y[(i+1) * batch_size:]    \n",
    "    yield x_batch, y_batch"
   ]
  },
  {
   "cell_type": "code",
   "execution_count": 47,
   "id": "74e9819c",
   "metadata": {
    "colab": {
     "base_uri": "https://localhost:8080/"
    },
    "id": "74e9819c",
    "outputId": "c6b1745f-4e19-4f83-afb7-c22f07062738"
   },
   "outputs": [
    {
     "name": "stdout",
     "output_type": "stream",
     "text": [
      "epoch 1, loss 5.0066, train acc 0.091, validation acc 0.090\n",
      "epoch 2, loss 2.7691, train acc 0.839, validation acc 0.851\n",
      "epoch 3, loss 1.0718, train acc 0.891, validation acc 0.901\n",
      "epoch 4, loss 0.8323, train acc 0.903, validation acc 0.910\n",
      "epoch 5, loss 0.7338, train acc 0.910, validation acc 0.917\n",
      "epoch 6, loss 0.6700, train acc 0.920, validation acc 0.925\n",
      "epoch 7, loss 0.6179, train acc 0.926, validation acc 0.928\n",
      "epoch 8, loss 0.5805, train acc 0.928, validation acc 0.930\n",
      "epoch 9, loss 0.5612, train acc 0.933, validation acc 0.933\n",
      "epoch 10, loss 0.5345, train acc 0.931, validation acc 0.931\n",
      "epoch 11, loss 0.5150, train acc 0.936, validation acc 0.934\n",
      "epoch 12, loss 0.4963, train acc 0.941, validation acc 0.938\n",
      "epoch 13, loss 0.4789, train acc 0.935, validation acc 0.931\n",
      "epoch 14, loss 0.4648, train acc 0.941, validation acc 0.934\n",
      "epoch 15, loss 0.4493, train acc 0.944, validation acc 0.936\n",
      "epoch 16, loss 0.4423, train acc 0.948, validation acc 0.941\n",
      "epoch 17, loss 0.4322, train acc 0.945, validation acc 0.938\n",
      "epoch 18, loss 0.4245, train acc 0.948, validation acc 0.940\n",
      "epoch 19, loss 0.4164, train acc 0.950, validation acc 0.942\n",
      "epoch 20, loss 0.4096, train acc 0.947, validation acc 0.939\n",
      "epoch 21, loss 0.4055, train acc 0.949, validation acc 0.939\n",
      "epoch 22, loss 0.3966, train acc 0.948, validation acc 0.939\n",
      "epoch 23, loss 0.3905, train acc 0.950, validation acc 0.939\n",
      "epoch 24, loss 0.3828, train acc 0.952, validation acc 0.941\n",
      "epoch 25, loss 0.3741, train acc 0.951, validation acc 0.940\n",
      "epoch 26, loss 0.3714, train acc 0.950, validation acc 0.937\n",
      "epoch 27, loss 0.3645, train acc 0.953, validation acc 0.942\n",
      "epoch 28, loss 0.3595, train acc 0.954, validation acc 0.940\n",
      "epoch 29, loss 0.3605, train acc 0.956, validation acc 0.943\n",
      "epoch 30, loss 0.3509, train acc 0.955, validation acc 0.943\n",
      "epoch 31, loss 0.3460, train acc 0.955, validation acc 0.941\n",
      "epoch 32, loss 0.3454, train acc 0.955, validation acc 0.939\n",
      "epoch 33, loss 0.3406, train acc 0.954, validation acc 0.941\n",
      "epoch 34, loss 0.3337, train acc 0.953, validation acc 0.939\n",
      "epoch 35, loss 0.3318, train acc 0.955, validation acc 0.940\n",
      "epoch 36, loss 0.3244, train acc 0.954, validation acc 0.939\n",
      "epoch 37, loss 0.3189, train acc 0.957, validation acc 0.942\n",
      "epoch 38, loss 0.3179, train acc 0.959, validation acc 0.946\n",
      "epoch 39, loss 0.3105, train acc 0.956, validation acc 0.940\n",
      "epoch 40, loss 0.3078, train acc 0.960, validation acc 0.945\n",
      "epoch 41, loss 0.3030, train acc 0.959, validation acc 0.942\n",
      "epoch 42, loss 0.2950, train acc 0.961, validation acc 0.943\n",
      "epoch 43, loss 0.2916, train acc 0.960, validation acc 0.942\n",
      "epoch 44, loss 0.2888, train acc 0.961, validation acc 0.945\n",
      "epoch 45, loss 0.2863, train acc 0.961, validation acc 0.943\n",
      "epoch 46, loss 0.2816, train acc 0.963, validation acc 0.945\n",
      "epoch 47, loss 0.2816, train acc 0.962, validation acc 0.944\n",
      "epoch 48, loss 0.2780, train acc 0.964, validation acc 0.947\n",
      "epoch 49, loss 0.2746, train acc 0.961, validation acc 0.943\n",
      "epoch 50, loss 0.2766, train acc 0.965, validation acc 0.947\n",
      "epoch 51, loss 0.2687, train acc 0.966, validation acc 0.947\n",
      "epoch 52, loss 0.2657, train acc 0.965, validation acc 0.946\n",
      "epoch 53, loss 0.2601, train acc 0.965, validation acc 0.946\n",
      "epoch 54, loss 0.2597, train acc 0.964, validation acc 0.945\n",
      "epoch 55, loss 0.2551, train acc 0.965, validation acc 0.945\n",
      "epoch 56, loss 0.2549, train acc 0.967, validation acc 0.949\n",
      "epoch 57, loss 0.2511, train acc 0.967, validation acc 0.947\n",
      "epoch 58, loss 0.2516, train acc 0.967, validation acc 0.948\n",
      "epoch 59, loss 0.2463, train acc 0.968, validation acc 0.949\n",
      "epoch 60, loss 0.2438, train acc 0.968, validation acc 0.948\n",
      "epoch 61, loss 0.2416, train acc 0.968, validation acc 0.947\n",
      "epoch 62, loss 0.2409, train acc 0.967, validation acc 0.946\n",
      "epoch 63, loss 0.2373, train acc 0.967, validation acc 0.947\n",
      "epoch 64, loss 0.2351, train acc 0.968, validation acc 0.948\n",
      "epoch 65, loss 0.2332, train acc 0.968, validation acc 0.947\n",
      "epoch 66, loss 0.2354, train acc 0.968, validation acc 0.947\n",
      "epoch 67, loss 0.2361, train acc 0.969, validation acc 0.947\n",
      "epoch 68, loss 0.2302, train acc 0.970, validation acc 0.948\n",
      "epoch 69, loss 0.2271, train acc 0.969, validation acc 0.948\n",
      "epoch 70, loss 0.2248, train acc 0.970, validation acc 0.948\n",
      "epoch 71, loss 0.2236, train acc 0.968, validation acc 0.944\n",
      "epoch 72, loss 0.2273, train acc 0.969, validation acc 0.946\n",
      "epoch 73, loss 0.2230, train acc 0.970, validation acc 0.947\n",
      "epoch 74, loss 0.2188, train acc 0.969, validation acc 0.947\n",
      "epoch 75, loss 0.2228, train acc 0.969, validation acc 0.946\n",
      "epoch 76, loss 0.2193, train acc 0.970, validation acc 0.948\n",
      "epoch 77, loss 0.2159, train acc 0.968, validation acc 0.946\n",
      "epoch 78, loss 0.2179, train acc 0.970, validation acc 0.946\n",
      "epoch 79, loss 0.2143, train acc 0.972, validation acc 0.948\n",
      "epoch 80, loss 0.2110, train acc 0.971, validation acc 0.948\n",
      "epoch 81, loss 0.2137, train acc 0.962, validation acc 0.941\n",
      "epoch 82, loss 0.2120, train acc 0.971, validation acc 0.946\n",
      "epoch 83, loss 0.2138, train acc 0.971, validation acc 0.947\n",
      "epoch 84, loss 0.2089, train acc 0.967, validation acc 0.945\n",
      "epoch 85, loss 0.2094, train acc 0.971, validation acc 0.947\n",
      "epoch 86, loss 0.2060, train acc 0.972, validation acc 0.948\n",
      "epoch 87, loss 0.2055, train acc 0.972, validation acc 0.948\n",
      "epoch 88, loss 0.2087, train acc 0.973, validation acc 0.948\n",
      "epoch 89, loss 0.2055, train acc 0.973, validation acc 0.948\n",
      "epoch 90, loss 0.1987, train acc 0.971, validation acc 0.947\n",
      "epoch 91, loss 0.1987, train acc 0.973, validation acc 0.950\n",
      "epoch 92, loss 0.1998, train acc 0.971, validation acc 0.947\n",
      "epoch 93, loss 0.1978, train acc 0.972, validation acc 0.947\n",
      "epoch 94, loss 0.1929, train acc 0.973, validation acc 0.949\n",
      "epoch 95, loss 0.1937, train acc 0.973, validation acc 0.947\n",
      "epoch 96, loss 0.1923, train acc 0.973, validation acc 0.947\n",
      "epoch 97, loss 0.1935, train acc 0.973, validation acc 0.950\n",
      "epoch 98, loss 0.1915, train acc 0.975, validation acc 0.950\n",
      "epoch 99, loss 0.1882, train acc 0.975, validation acc 0.947\n",
      "epoch 100, loss 0.1919, train acc 0.975, validation acc 0.950\n"
     ]
    }
   ],
   "source": [
    "####################################################################################################\n",
    "# enter code here to train Model1\n",
    "# TODO: set your desired hidden size, learning rate, number of iterations and batch size\n",
    "# remeber to load the dataset to the device (e.g. data_dict['x_train'].to(device))\n",
    "\n",
    "model = NN(0.15,100,100,35,device)\n",
    "model.train(data_dict['x_train'].to(device),data_dict['y_train'].to(device),data_dict['x_val'].to(device),data_dict['y_val'].to(device))\n",
    "####################################################################################################"
   ]
  },
  {
   "cell_type": "code",
   "execution_count": 48,
   "id": "bebd0600",
   "metadata": {
    "colab": {
     "base_uri": "https://localhost:8080/",
     "height": 265
    },
    "id": "bebd0600",
    "outputId": "4cf59edb-b5bd-417c-913f-78b5a793189f",
    "scrolled": true
   },
   "outputs": [
    {
     "data": {
      "image/png": "[encoded data removed]",
      "text/plain": [
       "<Figure size 640x480 with 1 Axes>"
      ]
     },
     "metadata": {},
     "output_type": "display_data"
    }
   ],
   "source": [
    "plt.plot(model.history['train_acc'], label='train_acc')\n",
    "plt.plot(model.history['val_acc'], label='val_acc')\n",
    "plt.legend()\n",
    "plt.show()"
   ]
  },
  {
   "cell_type": "code",
   "execution_count": 49,
   "id": "UQciuqY96_6Z",
   "metadata": {
    "colab": {
     "base_uri": "https://localhost:8080/"
    },
    "id": "UQciuqY96_6Z",
    "outputId": "0aff8095-e7a6-4558-f99c-36d2512488f7"
   },
   "outputs": [
    {
     "name": "stdout",
     "output_type": "stream",
     "text": [
      "[[962, 8511], [46, 481]]\n",
      "accuracy:  0.9473\n",
      "recall:  0.9946242842117564\n",
      "precision:  0.9465080071174378\n",
      "f1 score:  0.9699697988489373\n"
     ]
    }
   ],
   "source": [
    "####################################################################################################\n",
    "# enter code here to evaluate Model1 with test set\n",
    "# TODO: use the trained Model1 to predict the labels of test set and evaluate the results with the evaluator\n",
    "\n",
    "y_pred = model.predict(data_dict['x_test'].to(device))\n",
    "evaluator(data_dict['y_test'].to(device), y_pred)\n",
    "\n",
    "####################################################################################################"
   ]
  },
  {
   "cell_type": "code",
   "execution_count": null,
   "id": "bhkkGjWwxlLJ",
   "metadata": {
    "id": "bhkkGjWwxlLJ"
   },
   "outputs": [],
   "source": []
  },
  {
   "cell_type": "markdown",
   "id": "QG_rb7uJ4XDL",
   "metadata": {
    "id": "QG_rb7uJ4XDL"
   },
   "source": [
    "## Part 2"
   ]
  },
  {
   "cell_type": "markdown",
   "id": "a5c845a9",
   "metadata": {},
   "source": [
    "### Model2-1"
   ]
  },
  {
   "cell_type": "code",
   "execution_count": 50,
   "id": "13519996",
   "metadata": {},
   "outputs": [],
   "source": [
    "####################################################################################################\n",
    "# enter code here to implement Model2-1\n",
    "from sklearn.neural_network import MLPClassifier\n",
    "MLP = MLPClassifier(hidden_layer_sizes = (110,), activation = 'relu', solver = 'sgd', batch_size=75, max_iter=30)\n",
    "\n",
    "\n",
    "####################################################################################################"
   ]
  },
  {
   "cell_type": "code",
   "execution_count": null,
   "id": "208a8e33",
   "metadata": {},
   "outputs": [],
   "source": [
    "####################################################################################################\n",
    "# enter code here to train Model2-1\n",
    "MLP.fit(data_dict['x_train'],data_dict['y_train'])\n",
    "\n",
    "####################################################################################################"
   ]
  },
  {
   "cell_type": "code",
   "execution_count": null,
   "id": "f61594f0",
   "metadata": {},
   "outputs": [],
   "source": [
    "####################################################################################################\n",
    "# enter code here to evaluate Model2-1\n",
    "from sklearn.metrics import accuracy_score, classification_report, confusion_matrix, f1_score, recall_score, precision_score\n",
    "\n",
    "MLP.score(data_dict['x_train'],data_dict['y_train'])\n",
    "MLP.score(data_dict['x_test'],data_dict['y_test'])\n",
    "\n",
    "print(\"Accuracy: \", accuracy_score(data_dict['y_val'], MLP.predict(data_dict['x_val'])))\n",
    "print(\"F1 Score: \", f1_score(data_dict['y_val'], MLP.predict(data_dict['x_val']), average='weighted'))\n",
    "print(\"Recall Score: \", recall_score(data_dict['y_val'], MLP.predict(data_dict['x_val']), average='weighted'))\n",
    "print(\"Precision Score: \", precision_score(data_dict['y_val'], MLP.predict(data_dict['x_val']), average='weighted'))\n",
    "\n",
    "\n",
    "####################################################################################################"
   ]
  },
  {
   "cell_type": "markdown",
   "id": "c4a9243f",
   "metadata": {},
   "source": [
    "### Model2-2"
   ]
  },
  {
   "cell_type": "code",
   "execution_count": null,
   "id": "0eaf38a5",
   "metadata": {},
   "outputs": [],
   "source": [
    "####################################################################################################\n",
    "# enter code here to implement Model2-2\n",
    "MLP2 = MLPClassifier(hidden_layer_sizes = (110,110,110), activation = 'relu', solver = 'sgd', batch_size=75, max_iter=30)\n",
    "\n",
    "####################################################################################################"
   ]
  },
  {
   "cell_type": "code",
   "execution_count": null,
   "id": "090300ae",
   "metadata": {},
   "outputs": [],
   "source": [
    "####################################################################################################\n",
    "# enter code here to train Model2-2\n",
    "MLP2.fit(data_dict['x_train'],data_dict['y_train'])\n",
    "\n",
    "####################################################################################################"
   ]
  },
  {
   "cell_type": "code",
   "execution_count": null,
   "id": "ca87daf8",
   "metadata": {},
   "outputs": [],
   "source": [
    "####################################################################################################\n",
    "# enter code here to evaluate Model2-2\n",
    "print(\"Accuracy: \", accuracy_score(data_dict['y_val'], MLP2.predict(data_dict['x_val'])))\n",
    "print(\"F1 Score: \", f1_score(data_dict['y_val'], MLP2.predict(data_dict['x_val']), average='weighted'))\n",
    "print(\"Recall Score: \", recall_score(data_dict['y_val'], MLP2.predict(data_dict['x_val']), average='weighted'))\n",
    "print(\"Precision Score: \", precision_score(data_dict['y_val'], MLP2.predict(data_dict['x_val']), average='weighted'))\n",
    "####################################################################################################"
   ]
  },
  {
   "cell_type": "code",
   "execution_count": null,
   "id": "7c122168",
   "metadata": {},
   "outputs": [],
   "source": []
  },
  {
   "cell_type": "code",
   "execution_count": null,
   "id": "069efb7b",
   "metadata": {},
   "outputs": [],
   "source": []
  }
 ],
 "metadata": {
  "accelerator": "GPU",
  "colab": {
   "collapsed_sections": [],
   "name": "A2_solution.ipynb",
   "provenance": []
  },
  "kernelspec": {
   "display_name": "Python 3 (ipykernel)",
   "language": "python",
   "name": "python3"
  },
  "language_info": {
   "codemirror_mode": {
    "name": "ipython",
    "version": 3
   },
   "file_extension": ".py",
   "mimetype": "text/x-python",
   "name": "python",
   "nbconvert_exporter": "python",
   "pygments_lexer": "ipython3",
   "version": "3.9.2"
  },
  "vscode": {
   "interpreter": {
    "hash": "31f2aee4e71d21fbe5cf8b01ff0e069b9275f58929596ceb00d14d90e3e16cd6"
   }
  }
 },
 "nbformat": 4,
 "nbformat_minor": 5
}
